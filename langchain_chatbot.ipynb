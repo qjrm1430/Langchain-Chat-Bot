{
 "cells": [
  {
   "cell_type": "code",
   "execution_count": 1,
   "metadata": {},
   "outputs": [
    {
     "data": {
      "text/plain": [
       "True"
      ]
     },
     "execution_count": 1,
     "metadata": {},
     "output_type": "execute_result"
    }
   ],
   "source": [
    "from dotenv import load_dotenv\n",
    "# .env 파일에 등록된 변수(데이터)를 os 환경변수에 적용\n",
    "load_dotenv()"
   ]
  },
  {
   "cell_type": "code",
   "execution_count": 2,
   "metadata": {},
   "outputs": [],
   "source": [
    "from langchain_core.prompts import ChatPromptTemplate\n",
    "from langchain_openai import ChatOpenAI\n",
    "\n",
    "# 모델 생성\n",
    "chat = ChatOpenAI(\n",
    "    model=\"gpt-4o-mini\"\n",
    ")"
   ]
  },
  {
   "cell_type": "code",
   "execution_count": 3,
   "metadata": {},
   "outputs": [],
   "source": [
    "# 프롬프트 생성\n",
    "chat_prompt = ChatPromptTemplate.from_messages([\n",
    "    (\"system\", \"이 시스템은 여행 전문가입니다.\"),\n",
    "    (\"user\", \"{user_input}\"),\n",
    "])"
   ]
  },
  {
   "cell_type": "code",
   "execution_count": 4,
   "metadata": {},
   "outputs": [
    {
     "data": {
      "text/plain": [
       "['user_input']"
      ]
     },
     "execution_count": 4,
     "metadata": {},
     "output_type": "execute_result"
    }
   ],
   "source": [
    "chat_prompt.input_variables"
   ]
  },
  {
   "cell_type": "code",
   "execution_count": 5,
   "metadata": {},
   "outputs": [],
   "source": [
    "# 체인 생성 = 프롬프트 + 모델\n",
    "chain = chat_prompt | chat"
   ]
  },
  {
   "cell_type": "code",
   "execution_count": 6,
   "metadata": {},
   "outputs": [],
   "source": [
    "response = chain.invoke({\"user_input\": \"안녕하세요? 한국의 대표적인 관광지 3군데를 추천해주세요.\"})"
   ]
  },
  {
   "cell_type": "code",
   "execution_count": 7,
   "metadata": {},
   "outputs": [
    {
     "name": "stdout",
     "output_type": "stream",
     "text": [
      "==================================\u001b[1m Ai Message \u001b[0m==================================\n",
      "\n",
      "안녕하세요! 한국의 대표적인 관광지 3군데를 추천해 드릴게요.\n",
      "\n",
      "1. **경주**: 경주는 한국의 역사와 문화가 깊게 뿌리내린 도시로, 신라의 수도였던 곳입니다. 불국사와 석굴암은 UNESCO 세계유산으로 지정되어 있으며, 경주 역사 유적지구도 많은 방문객들에게 사랑받고 있습니다. 또한, 경주에서는 아름다운 고분과 전통적인 한옥 마을도 즐길 수 있습니다.\n",
      "\n",
      "2. **부산**: 부산은 한국의 제2의 도시이자 해양 도시로, 해변과 항구의 매력을 동시에 느낄 수 있습니다. 해운대와 광안리는 유명한 해수욕장으로 여름철에 많은 관광객이 찾습니다. 또한, 자갈치 시장에서 신선한 해산물을 맛볼 수 있고, 감천문화마을의 다채로운 벽화와 예술 작품도 즐길 수 있습니다.\n",
      "\n",
      "3. **서울**: 한국의 수도 서울은 현대와 전통이 조화를 이루는 도시입니다. 경복궁과 창덕궁 같은 역사적인 궁궐을 방문할 수 있으며, 인사동과 명동에서는 전통 문화와 쇼핑을 동시에 경험할 수 있습니다. 또한, 남산타워에서 서울의 전경을 감상할 수 있는 기회도 놓치지 마세요.\n",
      "\n",
      "각 관광지는 독특한 매력을 가지고 있으니, 방문하시는 동안 즐거운 시간 보내시길 바랍니다!\n"
     ]
    }
   ],
   "source": [
    "response.pretty_print()"
   ]
  },
  {
   "cell_type": "code",
   "execution_count": null,
   "metadata": {},
   "outputs": [],
   "source": []
  }
 ],
 "metadata": {
  "kernelspec": {
   "display_name": ".venv",
   "language": "python",
   "name": "python3"
  },
  "language_info": {
   "codemirror_mode": {
    "name": "ipython",
    "version": 3
   },
   "file_extension": ".py",
   "mimetype": "text/x-python",
   "name": "python",
   "nbconvert_exporter": "python",
   "pygments_lexer": "ipython3",
   "version": "3.12.4"
  }
 },
 "nbformat": 4,
 "nbformat_minor": 2
}
